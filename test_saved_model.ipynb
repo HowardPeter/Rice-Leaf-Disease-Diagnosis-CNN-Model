{
 "cells": [
  {
   "cell_type": "code",
   "execution_count": null,
   "metadata": {},
   "outputs": [],
   "source": [
    "import os\n",
    "import numpy as np\n",
    "import pandas as pd\n",
    "import seaborn as sns\n",
    "import tensorflow as tf\n",
    "import matplotlib.pyplot as plt\n",
    "from pathlib import Path\n",
    "from tensorflow import keras\n",
    "from keras._tf_keras.keras.preprocessing.image import ImageDataGenerator, load_img, img_to_array\n",
    "from sklearn.model_selection import train_test_split\n",
    "from sklearn.metrics import balanced_accuracy_score as BAS\n",
    "from sklearn.metrics import matthews_corrcoef as MCC\n",
    "from sklearn.metrics import classification_report, confusion_matrix"
   ]
  },
  {
   "cell_type": "code",
   "execution_count": 4,
   "metadata": {},
   "outputs": [
    {
     "name": "stdout",
     "output_type": "stream",
     "text": [
      "Train size: 593\n",
      "Test size: 5339\n"
     ]
    }
   ],
   "source": [
    "def get_dataset(dataset_dir):\n",
    "    \"\"\"Hàm này lấy dataset từ đường dẫn tệp dataset và lưu dataset dưới dạng Dataframe\"\"\"\n",
    "    filepaths = list(dataset_dir.glob(r'**/*.jpg'))\n",
    "    labels = list(map(lambda x: os.path.split(os.path.split(x)[0])[1], filepaths))\n",
    "\n",
    "    filepaths = pd.Series(filepaths, name='Filepath').astype(str)\n",
    "    labels = pd.Series(labels, name='Label')\n",
    "    dataset_df = pd.concat([filepaths, labels], axis=1)\n",
    "    \n",
    "    dataset_df = dataset_df.sample(frac=1).reset_index(drop = True)\n",
    "    \n",
    "    return dataset_df\n",
    "\n",
    "dataset_dir = Path('D:/PC/Documents/Tensorflow/Rice Leaf Disease Diagnosis CNN Model/Rice Leaf Disease Dataset')\n",
    "data_df = get_dataset(dataset_dir)\n",
    "\n",
    "train_df, test_df = train_test_split(data_df, test_size = 0.9, random_state = 55, stratify=data_df[\"Label\"])\n",
    "\n",
    "print(f\"Train size: {len(train_df)}\")\n",
    "print(f\"Test size: {len(test_df)}\")"
   ]
  },
  {
   "cell_type": "code",
   "execution_count": 10,
   "metadata": {},
   "outputs": [
    {
     "name": "stdout",
     "output_type": "stream",
     "text": [
      "Found 5339 validated image filenames belonging to 4 classes.\n"
     ]
    }
   ],
   "source": [
    "image_generator = ImageDataGenerator(rescale = 1.0/255.0)\n",
    "test_images = image_generator.flow_from_dataframe(\n",
    "    dataframe=test_df,\n",
    "    x_col='Filepath',\n",
    "    y_col='Label',\n",
    "    target_size=(128, 128),\n",
    "    color_mode='rgb',\n",
    "    class_mode='categorical',\n",
    "    batch_size=64,\n",
    "    seed = 5638,\n",
    "    shuffle=False\n",
    ")\n",
    "CLASSES = list(test_images.class_indices.keys())"
   ]
  },
  {
   "cell_type": "code",
   "execution_count": 5,
   "metadata": {},
   "outputs": [],
   "source": [
    "def load_img_array(img_path):\n",
    "    \"\"\"Hàm này load ảnh và resize về kích thước phù hợp với mô hình\"\"\"\n",
    "    img_size = (128, 128)\n",
    "    img = load_img(img_path, target_size=img_size)\n",
    "    img_array = img_to_array(img)\n",
    "    img_array = np.expand_dims(img_array, axis=0)\n",
    "    img_array = img_array / 255.0\n",
    "    return img_array\n",
    "\n",
    "def predict_single_image(model, img_path):\n",
    "    \"\"\"\n",
    "    Hàm này dự đoán nhãn của mẫu img trên model truyền vào\n",
    "    In ra xác suất dự đoán trên các nhãn và nhãn có xác suất cao nhất\n",
    "    \"\"\"\n",
    "    img_array = load_img_array(img_path)\n",
    "    \n",
    "    predictions = model.predict(img_array)\n",
    "    probabilities = predictions[0]\n",
    "\n",
    "    class_labels = ['Bacterialblight', 'Blast', 'Brownspot', 'Tungro']\n",
    "\n",
    "    for label, prob in zip(class_labels, probabilities):\n",
    "        print(f\"{label}: {prob:.2%}\")\n",
    "\n",
    "    predicted_label = class_labels[np.argmax(probabilities)]\n",
    "    print(f\"\\nPredicted Label: {predicted_label}\")"
   ]
  },
  {
   "cell_type": "code",
   "execution_count": 7,
   "metadata": {},
   "outputs": [
    {
     "name": "stderr",
     "output_type": "stream",
     "text": [
      "WARNING:absl:Compiled the loaded model, but the compiled metrics have yet to be built. `model.compile_metrics` will be empty until you train or evaluate the model.\n"
     ]
    }
   ],
   "source": [
    "model = tf.keras.models.load_model('./Rice_leaf_disease_diagnosis (100%).h5')"
   ]
  },
  {
   "cell_type": "code",
   "execution_count": 11,
   "metadata": {},
   "outputs": [
    {
     "name": "stderr",
     "output_type": "stream",
     "text": [
      "C:\\Users\\PC\\AppData\\Roaming\\Python\\Python312\\site-packages\\keras\\src\\trainers\\data_adapters\\py_dataset_adapter.py:121: UserWarning: Your `PyDataset` class should call `super().__init__(**kwargs)` in its constructor. `**kwargs` can include `workers`, `use_multiprocessing`, `max_queue_size`. Do not pass these arguments to `fit()`, as they will be ignored.\n",
      "  self._warn_if_super_not_called()\n"
     ]
    },
    {
     "name": "stdout",
     "output_type": "stream",
     "text": [
      "\u001b[1m84/84\u001b[0m \u001b[32m━━━━━━━━━━━━━━━━━━━━\u001b[0m\u001b[37m\u001b[0m \u001b[1m12s\u001b[0m 139ms/step - accuracy: 1.0000 - loss: 7.7644e-04\n",
      "Testing Accuracy: 99.98%\n",
      "\u001b[1m84/84\u001b[0m \u001b[32m━━━━━━━━━━━━━━━━━━━━\u001b[0m\u001b[37m\u001b[0m \u001b[1m9s\u001b[0m 110ms/step\n",
      "                 precision    recall  f1-score   support\n",
      "\n",
      "Bacterialblight       1.00      1.00      1.00      1426\n",
      "          Blast       1.00      1.00      1.00      1296\n",
      "      Brownspot       1.00      1.00      1.00      1440\n",
      "         Tungro       1.00      1.00      1.00      1177\n",
      "\n",
      "       accuracy                           1.00      5339\n",
      "      macro avg       1.00      1.00      1.00      5339\n",
      "   weighted avg       1.00      1.00      1.00      5339\n",
      "\n"
     ]
    }
   ],
   "source": [
    "test_scores = model.evaluate(test_images)\n",
    "print(\"Testing Accuracy: %.2f%%\"%(test_scores[1] * 100))\n",
    "pred_labels = model.predict(test_images)\n",
    "\n",
    "def roundoff(arr):\n",
    "    \"\"\"Hàm này chuyển giá trị lớn nhất trong mảng truyền vào = 1, các giá trị còn lại = 0\"\"\"\n",
    "    arr[np.argwhere(arr != arr.max())] = 0\n",
    "    arr[np.argwhere(arr == arr.max())] = 1\n",
    "    return arr\n",
    "\n",
    "for labels in pred_labels:\n",
    "    labels = roundoff(labels)\n",
    "\n",
    "pred = np.argmax(pred_labels,axis=1)\n",
    "\n",
    "print(classification_report(test_images.classes,pred,target_names=CLASSES))"
   ]
  },
  {
   "cell_type": "code",
   "execution_count": 12,
   "metadata": {},
   "outputs": [
    {
     "data": {
      "image/png": "[encoded data removed]",
      "text/plain": [
       "<Figure size 640x480 with 2 Axes>"
      ]
     },
     "metadata": {},
     "output_type": "display_data"
    }
   ],
   "source": [
    "# Plot the confusion matrix to understand the classification in detail\n",
    "test_ls, pred_ls = test_images.classes,pred\n",
    "conf_arr = confusion_matrix(test_ls, pred_ls)\n",
    "\n",
    "plt.figure(figsize=(8, 6), dpi=80, facecolor='w', edgecolor='k')\n",
    "\n",
    "ax = sns.heatmap(conf_arr, cmap='Greens', annot=True, fmt='d', xticklabels=CLASSES, yticklabels=CLASSES)\n",
    "\n",
    "plt.title('Rice Leaf Disease Diagnosis')\n",
    "plt.xlabel('Prediction')\n",
    "plt.ylabel('Truth')\n",
    "plt.show(ax)"
   ]
  },
  {
   "cell_type": "code",
   "execution_count": null,
   "metadata": {},
   "outputs": [
    {
     "name": "stdout",
     "output_type": "stream",
     "text": [
      "\u001b[1m1/1\u001b[0m \u001b[32m━━━━━━━━━━━━━━━━━━━━\u001b[0m\u001b[37m\u001b[0m \u001b[1m0s\u001b[0m 31ms/step\n",
      "Bacterialblight: 94.51%\n",
      "Blast: 2.17%\n",
      "Brownspot: 3.11%\n",
      "Tungro: 0.21%\n",
      "\n",
      "Predicted Label: Bacterialblight\n"
     ]
    }
   ],
   "source": [
    "img_path = Path(\"C:/Users/PC/Downloads/image (3).jpg\")\n",
    "predict_single_image(model, img_path)"
   ]
  }
 ],
 "metadata": {
  "kernelspec": {
   "display_name": "Python 3",
   "language": "python",
   "name": "python3"
  },
  "language_info": {
   "codemirror_mode": {
    "name": "ipython",
    "version": 3
   },
   "file_extension": ".py",
   "mimetype": "text/x-python",
   "name": "python",
   "nbconvert_exporter": "python",
   "pygments_lexer": "ipython3",
   "version": "3.12.0"
  }
 },
 "nbformat": 4,
 "nbformat_minor": 2
}
